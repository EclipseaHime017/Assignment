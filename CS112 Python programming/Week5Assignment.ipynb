{
 "cells": [
  {
   "cell_type": "markdown",
   "id": "948174c9",
   "metadata": {},
   "source": [
    "# Is It a Valid s Date?\n",
    "Michiko wants to go to a date with someone, and she received a SMS containing a date, please write a program to help her judge whether the date is valid - if not, poor Michiko is been lied to again.\n",
    "\n",
    "Input\n",
    "One line, containing a string in the format YYYY-MM-DD, where Y/M/D are numbers, standing for year/month/date.\n",
    "\n",
    "Output\n",
    "If the date is valid, then print one line YES, otherwise NO."
   ]
  },
  {
   "cell_type": "code",
   "execution_count": 70,
   "id": "e034dd49",
   "metadata": {},
   "outputs": [
    {
     "name": "stdout",
     "output_type": "stream",
     "text": [
      "2000-2-29\n",
      "YES\n"
     ]
    }
   ],
   "source": [
    "Date = input()\n",
    "Num = Date.split(\"-\")\n",
    "year = int(Num[0])\n",
    "month = int(Num[1])\n",
    "day = int(Num[2])\n",
    "if year%400 == 0:\n",
    "    if month in{1,3,5,7,8,9,10,12}:\n",
    "        if day >= 1 and day <= 31:\n",
    "            print(\"YES\")\n",
    "        else:\n",
    "            print(\"NO\")\n",
    "    elif month in{4,6,9,11}:\n",
    "        if day >= 1 and day <= 30:\n",
    "            print(\"YES\")\n",
    "        else:\n",
    "            print(\"NO\")\n",
    "    elif month == 2:\n",
    "        if day >= 1 and day <= 29:\n",
    "            print(\"YES\")\n",
    "        else:\n",
    "            print(\"NO\")\n",
    "    else:\n",
    "        print(\"NO\")\n",
    "elif year%100 == 0 and year%400 != 0:\n",
    "    if month in{1,3,5,7,8,9,10,12}:\n",
    "        if day >= 1 and day <= 31:\n",
    "            print(\"YES\")\n",
    "        else:\n",
    "            print(\"NO\")\n",
    "    elif month in{4,6,9,11}:\n",
    "        if day >= 1 and day <= 30:\n",
    "            print(\"YES\")\n",
    "        else:\n",
    "            print(\"NO\")\n",
    "    elif month == 2:\n",
    "        if day >= 1 and day <= 28:\n",
    "            print(\"YES\")\n",
    "        else:\n",
    "            print(\"NO\")\n",
    "    else:\n",
    "        print(\"NO\")\n",
    "elif year%4 == 0 and year%100 != 0:\n",
    "    if month in{1,3,5,7,8,9,10,12}:\n",
    "        if day >= 1 and day <= 31:\n",
    "            print(\"YES\")\n",
    "        else:\n",
    "            print(\"NO\")\n",
    "    elif month in{4,6,9,11}:\n",
    "        if day >= 1 and day <= 30:\n",
    "            print(\"YES\")\n",
    "        else:\n",
    "            print(\"NO\")\n",
    "    elif month == 2:\n",
    "        if day >= 1 and day <= 29:\n",
    "            print(\"YES\")\n",
    "        else:\n",
    "            print(\"NO\")\n",
    "    else:\n",
    "        print(\"NO\")\n",
    "else:\n",
    "    if month in{1,3,5,7,8,9,10,12}:\n",
    "        if day >= 1 and day <= 31:\n",
    "             print(\"YES\")\n",
    "        else:\n",
    "             print(\"NO\")\n",
    "    elif month in{4,6,9,11}:\n",
    "        if day >= 1 and day <= 30:\n",
    "            print(\"YES\")\n",
    "        else:\n",
    "            print(\"NO\")\n",
    "    elif month == 2:\n",
    "        if day >= 1 and day <= 28:\n",
    "            print(\"YES\")\n",
    "        else:\n",
    "            print(\"NO\")\n",
    "    else:\n",
    "        print(\"NO\")\n",
    "    \n",
    "    \n",
    "\n",
    "            \n",
    "\n"
   ]
  },
  {
   "cell_type": "markdown",
   "id": "24dd9a93",
   "metadata": {},
   "source": [
    "# Sum of Positive Numbers\n",
    "Suzuki wants to pay a bill, which is a long list of numbers - containing both valid numbers that are greater than zero, and mistaken numbers that are zero or negative. Your task is to help him summing up the bill he needs to pay.\n",
    "\n",
    "Input\n",
    "One line, containing several numbers, seperated by spaces.\n",
    "\n",
    "Output\n",
    "One line, the sum of positive numbers from the input.\n",
    "\n",
    "\n",
    "\n"
   ]
  },
  {
   "cell_type": "code",
   "execution_count": 77,
   "id": "d77a25f3",
   "metadata": {},
   "outputs": [
    {
     "name": "stdout",
     "output_type": "stream",
     "text": [
      "-1 1\n"
     ]
    },
    {
     "data": {
      "text/plain": [
       "1"
      ]
     },
     "execution_count": 77,
     "metadata": {},
     "output_type": "execute_result"
    }
   ],
   "source": [
    "numlist = input()\n",
    "num = numlist.split(\" \")\n",
    "summation = 0\n",
    "for x in num:\n",
    "    if int(x) <= 0:\n",
    "        summation += 0\n",
    "    else:\n",
    "        summation +=  int(x)\n",
    "summation"
   ]
  },
  {
   "cell_type": "markdown",
   "id": "8ef448af",
   "metadata": {},
   "source": [
    "# Prime number\n",
    "Explain\n",
    "A prime number is a positive integer that is divisible only by 1 and itself.\n",
    "\n",
    "For example, 2, 3, 5, 7, 11, etc., are prime numbers because they are divisible only by 1 and themselves.\n",
    "\n",
    "Input\n",
    "In this problem, the input to the problem is an integer n greater than zero,\n",
    "\n",
    "Output\n",
    "The output is a list of all prime numbers smaller than that."
   ]
  },
  {
   "cell_type": "code",
   "execution_count": 1,
   "id": "0371bd7b",
   "metadata": {},
   "outputs": [
    {
     "name": "stdout",
     "output_type": "stream",
     "text": [
      "10\n"
     ]
    },
    {
     "data": {
      "text/plain": [
       "[2, 3, 5, 7]"
      ]
     },
     "execution_count": 1,
     "metadata": {},
     "output_type": "execute_result"
    }
   ],
   "source": [
    "maximum = int(input())\n",
    "prime_list = []\n",
    "for x in range(1,maximum+1):\n",
    "    i = []\n",
    "    for num in range(1,x+1):\n",
    "        if x%num == 0:\n",
    "            i.append(num)\n",
    "        else:\n",
    "            pass\n",
    "    if len(i) == 2:\n",
    "        prime_list.append(x)\n",
    "    else:\n",
    "        pass\n",
    "prime_list\n",
    "        \n",
    "\n",
    "    \n"
   ]
  },
  {
   "cell_type": "markdown",
   "id": "dd54596d",
   "metadata": {},
   "source": [
    "# How to Shop?\n",
    "How to Shop?\n",
    "An ikun goes shopping in a supermarket with a bag of volum T  \n",
    "There are N goods, which the i-th good has volum Vi  \n",
    "and value Wi. He wants to take the maximum value away using the bag.  \n",
    "\n",
    "Input  \n",
    "The input has three lines.  \n",
    "The first line contains N<40 numbers, and   \n",
    "i-th number indicates the volum of the i-th good.  \n",
    "The second line contains N<40 numbers, and i-th number indicates the value of the i-th good.  \n",
    "The last line has one number, representing the volum of bag (T).  \n",
    "\n",
    "Output  \n",
    "One line, the maximum value that can be put in the bag.\n",
    "\n",
    "Hint  \n",
    "Traverse the full combinations of goods through 'itertools.combinations'."
   ]
  },
  {
   "cell_type": "code",
   "execution_count": 150,
   "id": "a5e6693d",
   "metadata": {},
   "outputs": [
    {
     "name": "stdout",
     "output_type": "stream",
     "text": [
      "1,2,3,4\n",
      "2,4,4,5\n",
      "5\n",
      "8\n",
      "[6, 6, 7, 8]\n"
     ]
    }
   ],
   "source": [
    "from itertools import combinations\n",
    "\n",
    "volum = input()\n",
    "value = input()\n",
    "bag = int(input())\n",
    "a = volum.split(\",\")\n",
    "b = value.split(\",\")\n",
    "shoppinglist = []\n",
    "possibility = []\n",
    "\n",
    "for x in range(0,len(a)):\n",
    "    shoppinglist.append((int(a[x]),int(b[x])))\n",
    "#将所有商品转换为体积对价格的元组\n",
    "for y in range(1,len(a)):\n",
    "    for i in combinations(shoppinglist,y+1):\n",
    "#写出所有可能的排列组合\n",
    "        summation0 = 0\n",
    "        summation1 = 0\n",
    "#规定体积和价值的函数\n",
    "        for z in range(0,y+1):\n",
    "            summation0 += i[z][0]\n",
    "            summation1 += i[z][1]\n",
    "#通过循环对每一组商品的排列组合进行计算\n",
    "        if summation0 <= bag:\n",
    "            possibility.append(summation1)\n",
    "        else:\n",
    "            pass\n",
    "#选择符合条件的排列组合\n",
    "    optimal = max(possibility)\n",
    "print(optimal)\n",
    "#求出最大可能价值\n",
    "\n",
    "#有待改进代码，大概率是写复杂了。\n",
    "print(possibility)\n",
    "#由于只考虑最大可能忽略了一部分可能的排列组合    \n",
    "    \n"
   ]
  },
  {
   "cell_type": "markdown",
   "id": "0f820c73",
   "metadata": {},
   "source": [
    "# Pick the most economical product\n",
    "Ming goes shopping in the supermarket, and he only wants to buy the most economical one. Each item has value and price. Ming will pick the item with higher value and lower price.\n",
    "\n",
    "Input\n",
    "The input has two lines.  \n",
    "The first line contains several numbers, seperated by spaces, representing the value of the items.  \n",
    "The second line contains several numbers, seperated by spaces, representing the price of the items.  \n",
    "The two rows have the same number of numbers.  \n",
    "\n",
    "Output\n",
    "One line, the output is the item id.  \n",
    "The id of the item is the position of the item in the list.  \n",
    "If the two items are equally economical, choose the one with small id.  "
   ]
  },
  {
   "cell_type": "code",
   "execution_count": 156,
   "id": "db9fc2d4",
   "metadata": {},
   "outputs": [
    {
     "name": "stdout",
     "output_type": "stream",
     "text": [
      "10 10 20\n",
      "5 10 5\n",
      "2\n"
     ]
    }
   ],
   "source": [
    "value = input()\n",
    "price = input()\n",
    "a = value.split(\" \")\n",
    "b = price.split(\" \")\n",
    "c = []\n",
    "for x in range(0,len(a)):\n",
    "    c.append(int(a[x])/int(b[x]))\n",
    "maximum = max(c)\n",
    "position = c.index(maximum)\n",
    "print(position)\n"
   ]
  },
  {
   "cell_type": "markdown",
   "id": "67c35f71",
   "metadata": {},
   "source": [
    "# Sum of Square\n",
    "Description  \n",
    "Given a positive integer n, calculate the sum of squares of all odd numbers between 1 and n.  "
   ]
  },
  {
   "cell_type": "code",
   "execution_count": 157,
   "id": "b4582bc0",
   "metadata": {},
   "outputs": [
    {
     "name": "stdout",
     "output_type": "stream",
     "text": [
      "5\n",
      "35\n"
     ]
    }
   ],
   "source": [
    "n = int(input())\n",
    "result = 0\n",
    "for i in range(0,n+1):\n",
    "    if i%2 != 0:\n",
    "        result += i**2\n",
    "    else:\n",
    "        pass\n",
    "print(result)\n",
    "        "
   ]
  },
  {
   "cell_type": "markdown",
   "id": "25f519db",
   "metadata": {},
   "source": [
    "# Draft"
   ]
  },
  {
   "cell_type": "code",
   "execution_count": 112,
   "id": "aadee27f",
   "metadata": {},
   "outputs": [
    {
     "name": "stdout",
     "output_type": "stream",
     "text": [
      "2\n",
      "2\n",
      "4\n"
     ]
    }
   ],
   "source": [
    "from itertools import combinations\n",
    "a = [(1,1),(2,2),(3,3)]\n",
    "for i in combinations(a,2):\n",
    "    print(sum(i[0]))"
   ]
  },
  {
   "cell_type": "code",
   "execution_count": 147,
   "id": "efcde7c8",
   "metadata": {},
   "outputs": [
    {
     "name": "stdout",
     "output_type": "stream",
     "text": [
      "1,2,3,4\n",
      "2,4,4,5\n",
      "((1, 2), (2, 4))\n",
      "3 6\n",
      "((1, 2), (3, 4))\n",
      "4 6\n",
      "((1, 2), (4, 5))\n",
      "5 7\n",
      "((2, 4), (3, 4))\n",
      "5 8\n",
      "((2, 4), (4, 5))\n",
      "6 9\n",
      "((3, 4), (4, 5))\n",
      "7 9\n",
      "((1, 2), (2, 4), (3, 4))\n",
      "6 10\n",
      "((1, 2), (2, 4), (4, 5))\n",
      "7 11\n",
      "((1, 2), (3, 4), (4, 5))\n",
      "8 11\n",
      "((2, 4), (3, 4), (4, 5))\n",
      "9 13\n",
      "((1, 2), (2, 4), (3, 4), (4, 5))\n",
      "10 15\n"
     ]
    }
   ],
   "source": [
    "from itertools import combinations\n",
    "\n",
    "volum = input()\n",
    "value = input()\n",
    "\n",
    "a = volum.split(\",\")\n",
    "b = value.split(\",\")\n",
    "shoppinglist = []\n",
    "possibility = []\n",
    "\n",
    "for x in range(0,len(a)):\n",
    "    shoppinglist.append((int(a[x]),int(b[x])))\n",
    "for y in range(1,len(a)):\n",
    "    for i in combinations(shoppinglist,y+1):\n",
    "        print(i)\n",
    "        summation0 = 0\n",
    "        summation1 = 0\n",
    "        for z in range(0,y+1):\n",
    "            summation0 += i[z][0]\n",
    "            summation1 += i[z][1]\n",
    "        print(summation0,summation1)\n",
    "            "
   ]
  }
 ],
 "metadata": {
  "kernelspec": {
   "display_name": "Python 3 (ipykernel)",
   "language": "python",
   "name": "python3"
  },
  "language_info": {
   "codemirror_mode": {
    "name": "ipython",
    "version": 3
   },
   "file_extension": ".py",
   "mimetype": "text/x-python",
   "name": "python",
   "nbconvert_exporter": "python",
   "pygments_lexer": "ipython3",
   "version": "3.11.0"
  }
 },
 "nbformat": 4,
 "nbformat_minor": 5
}
