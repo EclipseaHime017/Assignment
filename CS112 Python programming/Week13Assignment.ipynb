{
 "cells": [
  {
   "cell_type": "code",
   "execution_count": 123,
   "id": "3dfb3f8e",
   "metadata": {},
   "outputs": [],
   "source": [
    "# 创建文件\n",
    "import csv\n",
    "import os\n",
    "os.chdir(\"E:\\大一\\python\")\n",
    "lis = [['name','gender','age','community'],\n",
    "       ['name2','F',31,'F'],\n",
    "['name5','M',12,'F'],\n",
    "['name6','F',88,'E'],\n",
    "['name3','M',18,'G'],\n",
    "['name9','F',85,'D'],\n",
    "['name5','M',87,'G'],\n",
    "['','M',26,'C'],\n",
    "['name2','F',60,'F'],\n",
    "['name2','F',89,'F'],\n",
    "['name0','F',15,'E']]\n",
    "with open(\"week13assignA.csv\",\"w\",newline = '')as f:\n",
    "    wri = csv.writer(f)\n",
    "    wri.writerows(lis)"
   ]
  },
  {
   "cell_type": "code",
   "execution_count": 125,
   "id": "98560746",
   "metadata": {},
   "outputs": [
    {
     "name": "stdout",
     "output_type": "stream",
     "text": [
      "4.csv\n",
      "                   avg_age\n",
      "community gender          \n",
      "A         F         47.375\n",
      "          M         36.250\n",
      "          Unknown   55.000\n",
      "B         F         29.750\n",
      "          M         69.250\n",
      "C         F         49.000\n",
      "          M         34.500\n",
      "D         F         19.500\n",
      "          M         38.500\n",
      "          Unknown   88.000\n",
      "E         F         51.600\n",
      "          M         36.000\n",
      "F         F         25.500\n",
      "          M         44.000\n",
      "          Unknown   59.000\n",
      "G         F         27.000\n",
      "          M         43.000\n"
     ]
    }
   ],
   "source": [
    "import pandas as pd\n",
    "\n",
    "filepath = input()\n",
    "file = pd.read_csv(filepath)\n",
    "\n",
    "file.drop_duplicates(subset = [\"name\"],inplace = True)\n",
    "#删除重复数据\n",
    "file.dropna(subset = [\"name\"],inplace = True)\n",
    "#丢弃无名数据\n",
    "file[\"age\"].fillna(0,inplace=True)\n",
    "for index in file.index.tolist():\n",
    "    file.loc[index,\"age\"] = int(file.loc[index,\"age\"])\n",
    "    if file.loc[index,\"age\"] < 0:\n",
    "        file.loc[index,\"age\"] = 0\n",
    "#改年龄\n",
    "file[\"community\"].fillna(\"Unknown\",inplace = True)\n",
    "file[\"gender\"].fillna(\"Unknown\",inplace = True)\n",
    "#改性别社区信息\n",
    "\n",
    "\n",
    "file = file.groupby([\"community\",\"gender\"]).agg(\"mean\")\n",
    "file.rename(columns={\"age\":\"avg_age\"},inplace = True)\n",
    "\n",
    "print(file)\n"
   ]
  },
  {
   "cell_type": "markdown",
   "id": "b056496d",
   "metadata": {},
   "source": [
    "# Assignment B"
   ]
  },
  {
   "cell_type": "code",
   "execution_count": 2,
   "id": "1251ebee",
   "metadata": {
    "scrolled": true
   },
   "outputs": [
    {
     "name": "stdout",
     "output_type": "stream",
     "text": [
      "\n"
     ]
    },
    {
     "ename": "ValueError",
     "evalue": "invalid literal for int() with base 10: ''",
     "output_type": "error",
     "traceback": [
      "\u001b[1;31m---------------------------------------------------------------------------\u001b[0m",
      "\u001b[1;31mValueError\u001b[0m                                Traceback (most recent call last)",
      "Cell \u001b[1;32mIn[2], line 3\u001b[0m\n\u001b[0;32m      1\u001b[0m \u001b[38;5;28;01mimport\u001b[39;00m \u001b[38;5;21;01mpandas\u001b[39;00m \u001b[38;5;28;01mas\u001b[39;00m \u001b[38;5;21;01mpd\u001b[39;00m\n\u001b[1;32m----> 3\u001b[0m number \u001b[38;5;241m=\u001b[39m \u001b[38;5;28;43mint\u001b[39;49m\u001b[43m(\u001b[49m\u001b[38;5;28;43minput\u001b[39;49m\u001b[43m(\u001b[49m\u001b[43m)\u001b[49m\u001b[43m)\u001b[49m\n\u001b[0;32m      4\u001b[0m temp1 \u001b[38;5;241m=\u001b[39m \u001b[38;5;241m0\u001b[39m\n\u001b[0;32m      5\u001b[0m phase \u001b[38;5;241m=\u001b[39m \u001b[38;5;241m0\u001b[39m\n",
      "\u001b[1;31mValueError\u001b[0m: invalid literal for int() with base 10: ''"
     ]
    }
   ],
   "source": [
    "import pandas as pd\n",
    "\n",
    "number = int(input())\n",
    "temp1 = 0\n",
    "phase = 0\n",
    "studentlist = []\n",
    "while phase != number:\n",
    "    phase += 1\n",
    "    temp1 = input()\n",
    "    studentlist.append(temp1.split(\",\"))\n",
    "    temp1 = 0\n",
    "#录入成绩信息\n",
    "\n",
    "student_scores = pd.DataFrame(studentlist,columns = [\"name\",\"class\",\"score1\",\"score2\"])\n",
    "student_scores.drop([\"name\"],axis = 1,inplace = True)\n",
    "for index in range(len(student_scores)):\n",
    "    student_scores.loc[index,\"score1\"] = int(student_scores.loc[index,\"score1\"])\n",
    "for index in range(len(student_scores)):\n",
    "    student_scores.loc[index,\"score2\"] = int(student_scores.loc[index,\"score2\"])\n",
    "\n",
    "#建立学生总表\n",
    "class_sumperformance = student_scores.groupby(\"class\").agg(\"sum\")\n",
    "class_meanperformance = student_scores.groupby(\"class\").agg(\"mean\")\n",
    "class_sumperformance.rename(columns = {\"score1\":\"score1_sum\",\"score2\":\"score2_sum\"},inplace = True)\n",
    "class_meanperformance.rename(columns = {\"score1\":\"score1_mean\",\"score2\":\"score2_mean\"},inplace = True)\n",
    "result = pd.concat([class_sumperformance,class_meanperformance],axis = 1)\n",
    "result = pd.DataFrame(result,columns = [\"score1_mean\",\"score1_sum\",\"score2_mean\",\"score2_sum\"]).reset_index()\n",
    "print(result)\n"
   ]
  },
  {
   "cell_type": "code",
   "execution_count": null,
   "id": "50436a42",
   "metadata": {},
   "outputs": [],
   "source": [
    "#助教支持版\n",
    "for i in range(number):\n",
    "    studentlist.append(input().split(\",\"))\n",
    "    \n",
    "import pandas as pd\n",
    "import warnings\n",
    "warnings.filterwarnings(\"ignore\")\n",
    "number = int(input())\n",
    "for i in range(number):\n",
    "    studentlist.append(input().split(\",\"))\n",
    "#录入成绩信息\n",
    "\n",
    "student_scores = pd.DataFrame(studentlist,columns = [\"name\",\"class\",\"score1\",\"score2\"])\n",
    "student_scores.drop(columns = [\"name\"],axis = 1,inplace = True)\n",
    "for index in range(len(student_scores)):\n",
    "    student_scores.loc[index,\"score1\"] = int(student_scores.loc[index,\"score1\"])\n",
    "for index in range(len(student_scores)):\n",
    "    student_scores.loc[index,\"score2\"] = int(student_scores.loc[index,\"score2\"])\n",
    "\n",
    "#建立学生总表\n",
    "class_sumperformance = student_scores.groupby(\"class\").agg(\"sum\")\n",
    "class_meanperformance = student_scores.groupby(\"class\").agg(\"mean\")\n",
    "class_sumperformance.rename(columns = {\"score1\":\"score1_sum\",\"score2\":\"score2_sum\"},inplace = True)\n",
    "class_meanperformance.rename(columns = {\"score1\":\"score1_mean\",\"score2\":\"score2_mean\"},inplace = True)\n",
    "result = pd.concat([class_sumperformance,class_meanperformance],axis = 1)\n",
    "result = pd.DataFrame(result,columns = [\"score1_mean\",\"score1_sum\",\"score2_mean\",\"score2_sum\"]).reset_index()\n",
    "print(result)"
   ]
  },
  {
   "cell_type": "code",
   "execution_count": 74,
   "id": "df735448",
   "metadata": {},
   "outputs": [
    {
     "name": "stdout",
     "output_type": "stream",
     "text": [
      "2.in\n",
      "     class  score1_mean  score1_sum  score2_mean  score2_sum\n",
      "0  Class 1    61.850000        1237    50.300000        1006\n",
      "1  Class 2    63.904762        1342    52.428571        1101\n",
      "2  Class 3    54.200000         542    49.000000         490\n",
      "3  Class 4    57.727273        1270    43.954545         967\n",
      "4  Class 5    49.952381        1049    40.523810         851\n",
      "5  Class 6    55.588235         945    39.764706         676\n",
      "6  Class 7    42.947368         816    47.684211         906\n",
      "7  Class 8    56.687500         907    55.125000         882\n",
      "8  Class 9    50.312500         805    69.437500        1111\n"
     ]
    }
   ],
   "source": [
    "#读文件版\n",
    "\n",
    "import os\n",
    "os.chdir()\n",
    "\n",
    "filename = input()\n",
    "a = []\n",
    "with open(filename,\"r\") as fh:\n",
    "    studentlist = fh.readlines()\n",
    "    for i in range(len(studentlist)):\n",
    "        studentlist[i] = studentlist[i].rstrip()\n",
    "        studentlist[i] = studentlist[i].split(\",\")\n",
    "n = studentlist.pop(0)\n",
    "\n",
    "import pandas as pd\n",
    "\n",
    "student_scores = pd.DataFrame(studentlist,columns = [\"name\",\"class\",\"score1\",\"score2\"])\n",
    "student_scores.drop([\"name\"],axis = 1,inplace = True)\n",
    "for index in range(len(student_scores)):\n",
    "    student_scores.loc[index,\"score1\"] = int(student_scores.loc[index,\"score1\"])\n",
    "for index in range(len(student_scores)):\n",
    "    student_scores.loc[index,\"score2\"] = int(student_scores.loc[index,\"score2\"])\n",
    "\n",
    "#建立学生总表\n",
    "class_sumperformance = student_scores.groupby(\"class\").agg(\"sum\")\n",
    "class_meanperformance = student_scores.groupby(\"class\").agg(\"mean\")\n",
    "class_sumperformance.rename(columns = {\"score1\":\"score1_sum\",\"score2\":\"score2_sum\"},inplace = True)\n",
    "class_meanperformance.rename(columns = {\"score1\":\"score1_mean\",\"score2\":\"score2_mean\"},inplace = True)\n",
    "result = pd.concat([class_sumperformance,class_meanperformance],axis = 1)\n",
    "result = pd.DataFrame(result,columns = [\"score1_mean\",\"score1_sum\",\"score2_mean\",\"score2_sum\"]).reset_index()\n",
    "print(result)"
   ]
  },
  {
   "cell_type": "code",
   "execution_count": 1,
   "id": "09a980a0",
   "metadata": {},
   "outputs": [
    {
     "name": "stdout",
     "output_type": "stream",
     "text": [
      "1\n",
      "Alice,1,90,80\n",
      "  class  score1_mean  score1_sum  score2_mean  score2_sum\n",
      "0     1         90.0          90         80.0          80\n"
     ]
    }
   ],
   "source": [
    "# AI version\n",
    "import pandas as pd\n",
    "\n",
    "number = int(input())\n",
    "studentlist = []\n",
    "for _ in range(number):\n",
    "    temp1 = input().split(\",\")\n",
    "    studentlist.append(temp1[1:])\n",
    "\n",
    "student_scores = pd.DataFrame(studentlist, columns=[\"class\", \"score1\", \"score2\"])\n",
    "student_scores = student_scores.astype({\"score1\": int, \"score2\": int})\n",
    "\n",
    "class_sumperformance = student_scores.groupby(\"class\").agg({\"score1\": \"sum\", \"score2\": \"sum\"})\n",
    "class_meanperformance = student_scores.groupby(\"class\").agg({\"score1\": \"mean\", \"score2\": \"mean\"})\n",
    "\n",
    "class_sumperformance.rename(columns={\"score1\": \"score1_sum\", \"score2\": \"score2_sum\"}, inplace=True)\n",
    "class_meanperformance.rename(columns={\"score1\": \"score1_mean\", \"score2\": \"score2_mean\"}, inplace=True)\n",
    "\n",
    "result = pd.concat([class_meanperformance, class_sumperformance], axis=1).reset_index()\n",
    "result = result[[\"class\", \"score1_mean\", \"score1_sum\", \"score2_mean\", \"score2_sum\"]]\n",
    "print(result)"
   ]
  },
  {
   "cell_type": "markdown",
   "id": "f70c4208",
   "metadata": {},
   "source": [
    "# Assignment C"
   ]
  },
  {
   "cell_type": "code",
   "execution_count": 186,
   "id": "9ccaa723",
   "metadata": {},
   "outputs": [
    {
     "name": "stdout",
     "output_type": "stream",
     "text": [
      "week13A3.txt\n",
      "  studentid  score grade\n",
      "0  student1     95     A\n",
      "1  sutdent2     88     B\n",
      "4  student5     82     B\n"
     ]
    }
   ],
   "source": [
    "import pandas as pd\n",
    "\n",
    "filepath = input()\n",
    "file = pd.read_csv(filepath,sep=\" \")\n",
    "\n",
    "grade = []\n",
    "item = 0\n",
    "for n in file.index.tolist():\n",
    "    item = file.loc[n,\"score\"]\n",
    "    try:\n",
    "        if int(item) >= 90:\n",
    "            grade.append(\"A\")\n",
    "        elif int(item)>= 80 & item <= 89:\n",
    "            grade.append(\"B\")\n",
    "        elif int(item) >= 70 & item <= 79:\n",
    "            grade.append(\"C\")\n",
    "        elif int(item) >= 60 & item <= 69:\n",
    "            grade.append(\"D\")\n",
    "        elif int(item) >= 0 & item <= 59:\n",
    "            grade.append(\"E\")\n",
    "    except:\n",
    "        pass\n",
    "\n",
    "file[\"grade\"] = grade\n",
    "\n",
    "file.sort_values(\"score\",ascending = False,inplace = True)\n",
    "result = file[file[\"score\"]>=80]\n",
    "print(result)"
   ]
  },
  {
   "cell_type": "markdown",
   "id": "895a3c89",
   "metadata": {},
   "source": [
    "# Assignment D"
   ]
  },
  {
   "cell_type": "code",
   "execution_count": 79,
   "id": "51232ff4",
   "metadata": {},
   "outputs": [
    {
     "name": "stdout",
     "output_type": "stream",
     "text": [
      "{'Region': ['East', 'South', 'West', 'East', 'South'], 'Date': [Timestamp('2020-01-01 00:00:00', freq='D'), Timestamp('2020-02-02 00:00:00', freq='D'), Timestamp('2020-03-03 00:00:00', freq='D'), Timestamp('2020-01-04 00:00:00', freq='D'), Timestamp('2020-04-05 00:00:00', freq='D')], 'Sales': [863, 807, 459, 109, 823]}\n",
      "Region  Date      \n",
      "East    2020-01-31    972\n",
      "South   2020-02-29    807\n",
      "        2020-04-30    823\n",
      "West    2020-03-31    459\n",
      "Name: Sales, dtype: int64\n"
     ]
    }
   ],
   "source": [
    "from pandas import Timestamp\n",
    "import pandas as pd\n",
    "import warnings\n",
    "warnings.filterwarnings(\"ignore\")\n",
    "\n",
    "a = eval(input())\n",
    "a = pd.DataFrame(a)\n",
    "\n",
    "a = a.groupby([\"Region\",pd.Grouper(key='Date', freq='M')]).agg( 'sum')\n",
    "print(a[\"Sales\"])\n",
    "\n"
   ]
  },
  {
   "cell_type": "markdown",
   "id": "65575c9c",
   "metadata": {},
   "source": [
    "# Assignment E"
   ]
  },
  {
   "cell_type": "code",
   "execution_count": 72,
   "id": "72edb4c1",
   "metadata": {},
   "outputs": [
    {
     "name": "stdout",
     "output_type": "stream",
     "text": [
      "2\n",
      "1 90 4\n",
      "2 80 4\n",
      "1 4.44\n"
     ]
    }
   ],
   "source": [
    "import pandas as pd\n",
    "\n",
    "number = int(input())\n",
    "phase = 0\n",
    "gradelist = []\n",
    "temp1 = 0\n",
    "agg1 = 0\n",
    "agg2 = 0\n",
    "while phase != number:\n",
    "    phase += 1\n",
    "    temp1 = input()\n",
    "    temp1 = temp1.split(\" \")\n",
    "    temp1[1] = float(temp1[1])\n",
    "    agg1 +=  temp1[1]\n",
    "    temp1[2] = float(temp1[2])\n",
    "    agg2 += temp1[2]\n",
    "    gradelist.append(temp1)\n",
    "    temp1 = 0\n",
    "\n",
    "num = len(gradelist)\n",
    "meanbase = agg1/num\n",
    "meanbonus = agg2/num\n",
    "gradelis = gradelist.copy()\n",
    "for item in gradelis:\n",
    "    if item[1] <= meanbase or item[2] < meanbonus:\n",
    "        gradelist.remove(item)\n",
    "    else:\n",
    "        pass\n",
    "# 录入信息\n",
    "\n",
    "grade = pd.DataFrame(gradelist,columns = [\"studentid\",\"base\",\"bonus\"])\n",
    "grade.set_index(\"studentid\",inplace = True)\n",
    "#整合信息\n",
    "\n",
    "if len(grade) != 0:\n",
    "    a = grade[\"base\"]\n",
    "    b = grade[\"bonus\"]\n",
    "    c = round(100*grade[\"bonus\"]/grade[\"base\"],2)\n",
    "    for index in c[c==c.max()].index.tolist():\n",
    "        print(index,max(c))\n",
    "else:\n",
    "    print(\"None\")\n"
   ]
  },
  {
   "cell_type": "markdown",
   "id": "c3b670bf",
   "metadata": {},
   "source": [
    "#### "
   ]
  },
  {
   "cell_type": "code",
   "execution_count": 73,
   "id": "035a4a38",
   "metadata": {},
   "outputs": [
    {
     "name": "stdout",
     "output_type": "stream",
     "text": [
      "2\n",
      "1 90 4\n",
      "2 80 4\n",
      "1 4.44\n"
     ]
    }
   ],
   "source": [
    "import pandas as pd\n",
    "\n",
    "number = int(input())\n",
    "gradelist = []\n",
    "agg1 = 0\n",
    "agg2 = 0\n",
    "\n",
    "for _ in range(number):\n",
    "    temp1 = input().split(\" \")\n",
    "    temp1[1] = float(temp1[1])\n",
    "    agg1 += temp1[1]\n",
    "    temp1[2] = float(temp1[2])\n",
    "    agg2 += temp1[2]\n",
    "    gradelist.append(temp1)\n",
    "\n",
    "meanbase = agg1 / number\n",
    "meanbonus = agg2 / number\n",
    "\n",
    "filtered_list = [item for item in gradelist if item[1] > meanbase and item[2] >= meanbonus]\n",
    "\n",
    "if len(filtered_list) != 0:\n",
    "    grade = pd.DataFrame(filtered_list, columns=[\"studentid\", \"base\", \"bonus\"])\n",
    "    grade.set_index(\"studentid\", inplace=True)\n",
    "    grade[\"bonus_percentage\"] = (grade[\"bonus\"] / grade[\"base\"]) * 100\n",
    "    result = grade.sort_index()[\"bonus_percentage\"]\n",
    "    for index, bonus_percentage in result.items():\n",
    "        print(index, f\"{bonus_percentage:.2f}\")\n",
    "else:\n",
    "    print(\"None\")\n"
   ]
  },
  {
   "cell_type": "code",
   "execution_count": null,
   "id": "e53029f6",
   "metadata": {},
   "outputs": [],
   "source": []
  }
 ],
 "metadata": {
  "kernelspec": {
   "display_name": "Python 3 (ipykernel)",
   "language": "python",
   "name": "python3"
  },
  "language_info": {
   "codemirror_mode": {
    "name": "ipython",
    "version": 3
   },
   "file_extension": ".py",
   "mimetype": "text/x-python",
   "name": "python",
   "nbconvert_exporter": "python",
   "pygments_lexer": "ipython3",
   "version": "3.11.0"
  }
 },
 "nbformat": 4,
 "nbformat_minor": 5
}
