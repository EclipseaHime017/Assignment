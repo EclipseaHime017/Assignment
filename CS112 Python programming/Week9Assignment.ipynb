{
 "cells": [
  {
   "cell_type": "markdown",
   "id": "b3298f4d",
   "metadata": {},
   "source": [
    "# Recursive-K"
   ]
  },
  {
   "cell_type": "code",
   "execution_count": 2,
   "id": "456148e3",
   "metadata": {
    "scrolled": true
   },
   "outputs": [
    {
     "name": "stdout",
     "output_type": "stream",
     "text": [
      "1 2 3\n",
      "Enter sum_list([1, 2, 3])\n",
      "Enter sum_list([2, 3])\n",
      "Enter sum_list([3])\n",
      "Enter sum_list([])\n",
      "Exit sum_list([]) => 0\n",
      "Exit sum_list([3]) => 3\n",
      "Exit sum_list([2, 3]) => 5\n",
      "Exit sum_list([1, 2, 3]) => 6\n"
     ]
    }
   ],
   "source": [
    "def sum_list(lis):\n",
    "    if lis == []:\n",
    "        print(f'Enter sum_list({lis})')\n",
    "    else:\n",
    "        print(f'Enter sum_list({lis})')\n",
    "        lis = lis[1:len(lis)]\n",
    "        return sum_list(lis)\n",
    "    lis = c[len(c)-len(lis):]\n",
    "    for i in range(0,len(c)+1):\n",
    "        print(f'Exit sum_list({c[len(c)-i:]}) => {sum(c[len(c)-i:])}')\n",
    "    \n",
    "a = input()\n",
    "b = a.split(\" \")\n",
    "c = []\n",
    "for number in b:\n",
    "    c.append(int(number))\n",
    "sum_list(c)\n",
    "\n",
    "\n",
    "            \n",
    "                \n",
    "            \n",
    "    "
   ]
  },
  {
   "cell_type": "markdown",
   "id": "f4eafe6d",
   "metadata": {},
   "source": [
    "# Frog Jumping Step Problem\n",
    "A frog can jump up one step or two steps at a time. Given a number of steps: N, write a function to count the number of ways the frog can jump to the top. Result of different order are calculated as different ways."
   ]
  },
  {
   "cell_type": "code",
   "execution_count": 13,
   "id": "47d36819",
   "metadata": {},
   "outputs": [
    {
     "name": "stdout",
     "output_type": "stream",
     "text": [
      "30\n"
     ]
    },
    {
     "data": {
      "text/plain": [
       "1346269"
      ]
     },
     "execution_count": 13,
     "metadata": {},
     "output_type": "execute_result"
    }
   ],
   "source": [
    "def method(n):\n",
    "    if n == 0:\n",
    "        return 1\n",
    "    if n == 1:\n",
    "        return 1\n",
    "    else:\n",
    "        return method(n-1) + method(n-2)\n",
    "    \n",
    "a = input()\n",
    "b = int(a)\n",
    "print(method(b))"
   ]
  },
  {
   "cell_type": "markdown",
   "id": "1baf1460",
   "metadata": {},
   "source": [
    "# Number of Factors\n",
    "Write a python function that counts the number of positive factors of a positive integer."
   ]
  },
  {
   "cell_type": "code",
   "execution_count": 15,
   "id": "88c26d19",
   "metadata": {},
   "outputs": [
    {
     "name": "stdout",
     "output_type": "stream",
     "text": [
      "3 4 5\n",
      "2\n",
      "3\n",
      "2\n"
     ]
    }
   ],
   "source": [
    "def factor(n):\n",
    "    factors = []\n",
    "    for num in range(1,n+1):\n",
    "        if n%num == 0:\n",
    "            factors.append(num)\n",
    "        else:\n",
    "            pass\n",
    "    return len(factors)\n",
    "\n",
    "a = input()\n",
    "b = a.split(\" \")\n",
    "for item in b:\n",
    "    print(factor(int(item)))\n"
   ]
  },
  {
   "cell_type": "markdown",
   "id": "fa045171",
   "metadata": {},
   "source": [
    "# Roman number\n",
    "Convert integers to Roman numerals"
   ]
  },
  {
   "cell_type": "code",
   "execution_count": 66,
   "id": "8653bb5f",
   "metadata": {},
   "outputs": [
    {
     "name": "stdout",
     "output_type": "stream",
     "text": [
      "3000\n",
      "MMM\n"
     ]
    }
   ],
   "source": [
    "def Roman(n):\n",
    "    a = list(n)\n",
    "    times = 1\n",
    "    for item in a[::-1]:\n",
    "        if times == 1:\n",
    "            if int(item) <= 3:\n",
    "                a[-times]=int(item)*\"I\"\n",
    "            elif int(item) == 4:\n",
    "                a[-times]=\"IV\"\n",
    "            elif int(item) == 5:\n",
    "                a[-times]=\"V\"\n",
    "            elif int(item) >= 6 and int(item) <= 8:\n",
    "                a[-times]=\"V\"+(int(item)-5)*\"I\"\n",
    "            elif int(item) == 9:\n",
    "                a[-times]=\"IX\"\n",
    "            elif int(item) == 0:\n",
    "                a[-times]=\"\"\n",
    "            times += 1\n",
    "\n",
    "\n",
    "        elif times == 2:\n",
    "            if int(item) <= 3:\n",
    "                a[-times]=int(item)*\"X\"\n",
    "            elif int(item) == 4:\n",
    "                a[-times]=\"XL\"\n",
    "            elif int(item) == 5:\n",
    "                a[-times]=\"L\"\n",
    "            elif int(item) >= 6 and int(item) <= 8:\n",
    "                a[-times]=\"L\"+(int(item)-5)*\"X\"\n",
    "            elif int(item) == 9:\n",
    "                a[-times]=\"XC\"\n",
    "            elif int(item) == 0:\n",
    "                a[-times]=\"\"\n",
    "            times += 1\n",
    "\n",
    "        elif times == 3:\n",
    "            if int(item) <= 3:\n",
    "                a[-times]=int(item)*\"C\"\n",
    "            elif int(item) == 4:\n",
    "                a[-times]=\"CD\"\n",
    "            elif int(item) == 5:\n",
    "                a[-times]=\"D\"\n",
    "            elif int(item) >= 6 and int(item) <= 8:\n",
    "                a[-times]=\"D\"+(int(item)-5)*\"C\"\n",
    "            elif int(item) == 9:\n",
    "                a[-times] = \"CM\"\n",
    "            elif int(item) == 0:\n",
    "                a[-times]=\"\"\n",
    "            times += 1\n",
    "\n",
    "        else:\n",
    "            a[-times]=int(item)*\"M\"\n",
    "    b = \"\".join(a)\n",
    "    print(b)\n",
    "\n",
    "num = input()\n",
    "Roman(num)\n",
    "        "
   ]
  },
  {
   "cell_type": "code",
   "execution_count": 60,
   "id": "49e747d1",
   "metadata": {},
   "outputs": [
    {
     "data": {
      "text/plain": [
       "'1234'"
      ]
     },
     "execution_count": 60,
     "metadata": {},
     "output_type": "execute_result"
    }
   ],
   "source": [
    "a = ['1','2','3','4']\n",
    "\"\".join(a)"
   ]
  },
  {
   "cell_type": "markdown",
   "id": "c77cfe22",
   "metadata": {},
   "source": [
    " "
   ]
  },
  {
   "cell_type": "code",
   "execution_count": 72,
   "id": "3144bd5a",
   "metadata": {},
   "outputs": [
    {
     "name": "stdout",
     "output_type": "stream",
     "text": [
      "12,8\n",
      "4\n"
     ]
    }
   ],
   "source": [
    "def common(a,b):\n",
    "    list1 = []\n",
    "    list2 = []\n",
    "    for num in range(1,a+1):\n",
    "        if a%num == 0:\n",
    "            list1.append(num)\n",
    "        else:\n",
    "            pass\n",
    "    for num in range(1,b+1):\n",
    "        if b%num == 0:\n",
    "            list2.append(num)\n",
    "        else:\n",
    "            pass\n",
    "    c = set(list1)\n",
    "    d = set(list2)\n",
    "    e = c&d\n",
    "    print(max(e))\n",
    "\n",
    "inp = input()\n",
    "lis = inp.split(\",\")\n",
    "a = int(lis[0])\n",
    "b = int(lis[1])\n",
    "common(a,b)"
   ]
  },
  {
   "cell_type": "code",
   "execution_count": null,
   "id": "e3262a46",
   "metadata": {},
   "outputs": [],
   "source": []
  }
 ],
 "metadata": {
  "kernelspec": {
   "display_name": "Python 3 (ipykernel)",
   "language": "python",
   "name": "python3"
  },
  "language_info": {
   "codemirror_mode": {
    "name": "ipython",
    "version": 3
   },
   "file_extension": ".py",
   "mimetype": "text/x-python",
   "name": "python",
   "nbconvert_exporter": "python",
   "pygments_lexer": "ipython3",
   "version": "3.11.0"
  }
 },
 "nbformat": 4,
 "nbformat_minor": 5
}
