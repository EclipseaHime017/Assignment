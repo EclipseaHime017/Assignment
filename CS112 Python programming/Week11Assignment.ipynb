{
 "cells": [
  {
   "cell_type": "markdown",
   "id": "fbe50230",
   "metadata": {},
   "source": [
    "# Enormous System of Equations\n",
    "Nicki is not good at math, and she is very afraid of solving systems of equations (she can't do linear algebra, and she is too careless to solve manually or use Gaussian elimination to get it wrong). Please write a program to help her solve the equations.\n",
    "\n",
    "Input  \n",
    "The first line is an integer n, stands for the number of unknowns in the system of equations.\n",
    "\n",
    "For the following n lines, each line contains n+1 numbers seperated by spaces. In all, this n * (n+1) matrix is [A | b].\n",
    "\n",
    "We ensure the system of equation has unique solution X.\n",
    "\n",
    "Output  \n",
    "One line, the values of the solution (floats) should be retained up to two decimal places, seperated by spaces.\n"
   ]
  },
  {
   "cell_type": "code",
   "execution_count": 202,
   "id": "8d8c9526",
   "metadata": {},
   "outputs": [
    {
     "name": "stdout",
     "output_type": "stream",
     "text": [
      "2\n",
      "1 0 2\n",
      "0 2 6.284\n",
      "2 3.14\n"
     ]
    }
   ],
   "source": [
    "import numpy as np\n",
    "\n",
    "Input1 = input()\n",
    "Unknown = int(Input1)\n",
    "tem_input = 0\n",
    "Inputlist = []\n",
    "nested = []\n",
    "results = []\n",
    "temp = []\n",
    "for n in range(0,Unknown):\n",
    "    tem_input = input()\n",
    "    Inputlist = tem_input.split(\" \")\n",
    "    for item in Inputlist:\n",
    "        temp.append(float(item))\n",
    "    nested.append(temp)\n",
    "    temp = []\n",
    "\n",
    "Augmatrix = np.array(nested)\n",
    "\n",
    "\n",
    "for column in range(0,Unknown):\n",
    "    for row in range(column,Unknown):\n",
    "        if Augmatrix[row][column] != 0:\n",
    "            Augmatrix[row] = Augmatrix[row]/Augmatrix[row][column]\n",
    "        elif Augmatrix[row][column] == 0 and row == column:\n",
    "            for other in range(row,Unknown):\n",
    "                Augmatrix[row] += Augmatrix[other]\n",
    "            Augmatrix[row] = Augmatrix[row]/Augmatrix[row][column]\n",
    "        else:\n",
    "            continue\n",
    "    for row in range(column,Unknown):\n",
    "        for other in range(row,Unknown):\n",
    "            if Augmatrix[other][column] == 0 or other == row:\n",
    "                pass\n",
    "            else:\n",
    "                Augmatrix[other] = Augmatrix[other]-Augmatrix[row]\n",
    "        \n",
    "\n",
    "b = 0\n",
    "c = 0\n",
    "d = 0\n",
    "e = []\n",
    "\n",
    "for y in range(0,Unknown):\n",
    "    results.append(0)\n",
    "for rows in reversed(range(0,Unknown)):\n",
    "    b = Augmatrix[rows][Unknown]\n",
    "    for x in range(0,Unknown):\n",
    "        c = Augmatrix[rows][x]\n",
    "        d = results[x]\n",
    "        b = float(b)-float(c)*float(d)\n",
    "        b = str(round(b,2))\n",
    "    e = b.split(\".\")\n",
    "\n",
    "    if float(b).is_integer():\n",
    "        b = int(float(b))\n",
    "    else:\n",
    "        b = float(b)\n",
    "\n",
    "    results[rows] = str(b)\n",
    "    c = 0\n",
    "    d = 0\n",
    "    b = 0\n",
    "    \n",
    "result = ' '.join(results)\n",
    "print(result)\n",
    "\n",
    "\n",
    "    \n",
    "\n"
   ]
  },
  {
   "cell_type": "markdown",
   "id": "47b496f1",
   "metadata": {},
   "source": [
    "# Another version"
   ]
  },
  {
   "cell_type": "code",
   "execution_count": 198,
   "id": "8121550c",
   "metadata": {},
   "outputs": [
    {
     "name": "stdout",
     "output_type": "stream",
     "text": [
      "2\n",
      "1 0 2\n",
      "0 2 6.284\n",
      "2 3.14\n"
     ]
    }
   ],
   "source": [
    "import numpy as np\n",
    "\n",
    "Unknown = int(input())\n",
    "Inputlist = []\n",
    "nested = []\n",
    "for n in range(Unknown):\n",
    "    tem_input = input()\n",
    "    Inputlist = tem_input.split(\" \")\n",
    "    nested.append(list(map(float, Inputlist)))\n",
    "Augmatrix = np.array(nested)\n",
    "\n",
    "\n",
    "for column in range(Unknown):\n",
    "    pivot = Augmatrix[column][column]\n",
    "    if pivot == 0:\n",
    "        break\n",
    "    Augmatrix[column] /= pivot\n",
    "    for row in range(column+1, Unknown):\n",
    "        factor = Augmatrix[row][column] / Augmatrix[column][column]\n",
    "        Augmatrix[row] -= factor * Augmatrix[column]\n",
    "\n",
    "results = [0] * Unknown\n",
    "for row in range(Unknown-1, -1, -1):\n",
    "    b = Augmatrix[row][Unknown]\n",
    "    for column in range(row+1, Unknown):\n",
    "        b -= Augmatrix[row][column] * results[column]\n",
    "    results[row] = b\n",
    "\n",
    "result = \" \".join([f\"{int(r) if r.is_integer() else r:.2f}\".rstrip(\"0\").rstrip(\".\") for r in results])\n",
    "print(result)\n",
    "\n"
   ]
  },
  {
   "cell_type": "code",
   "execution_count": 204,
   "id": "0cbc076b",
   "metadata": {},
   "outputs": [
    {
     "name": "stdout",
     "output_type": "stream",
     "text": [
      "2\n",
      "1 0 2\n",
      "0 2 6.284\n",
      "2.0 3.14\n"
     ]
    }
   ],
   "source": []
  },
  {
   "cell_type": "code",
   "execution_count": 18,
   "id": "9b3f2eff",
   "metadata": {},
   "outputs": [
    {
     "name": "stdout",
     "output_type": "stream",
     "text": [
      "C S I S D I F F I C U L T     \n",
      "C S I S D I F F I C U L T\n",
      "C 0 2\n",
      "S 1 2\n",
      "I 2 3\n",
      "D 4 1\n",
      "F 6 2\n",
      "U 10 1\n",
      "L 11 1\n",
      "T 12 1\n"
     ]
    }
   ],
   "source": [
    "queue = input()\n",
    "queue = queue.rstrip()\n",
    "\n",
    "lis = queue.split(\" \")\n",
    "dictionary1 = {}\n",
    "dictionary2 = {}\n",
    "order = -1\n",
    "result = []\n",
    "for n in lis:\n",
    "    order += 1\n",
    "    if n not in dictionary1:\n",
    "        dictionary1[n] = order\n",
    "        dictionary2[n] = 1\n",
    "        result.append(n)\n",
    "    elif n in dictionary1:\n",
    "        dictionary2[n] += 1\n",
    "for n in result:\n",
    "    print(n,dictionary1[n],dictionary2[n])"
   ]
  },
  {
   "cell_type": "code",
   "execution_count": 32,
   "id": "ed4287ae",
   "metadata": {},
   "outputs": [
    {
     "name": "stdout",
     "output_type": "stream",
     "text": [
      "1,2,3,4,5\n",
      "[1 2 3 4 5]\n",
      "[-1  2 -1  4 -1]\n"
     ]
    }
   ],
   "source": [
    "import numpy as np\n",
    "\n",
    "Input = input()\n",
    "numbers = []\n",
    "alphabet = Input.split(\",\")\n",
    "for ele in alphabet:\n",
    "    numbers.append(int(ele))\n",
    "number = np.array(numbers)\n",
    "print(number)\n",
    "\n",
    "number[number%2 != 0] = -1\n",
    "print(number)\n"
   ]
  },
  {
   "cell_type": "code",
   "execution_count": 33,
   "id": "ed176d1f",
   "metadata": {},
   "outputs": [
    {
     "name": "stdout",
     "output_type": "stream",
     "text": [
      "28\n"
     ]
    }
   ],
   "source": [
    "import numpy as np\n",
    "a = [[1,2,3],[4,5,6],[7,8,9]]\n",
    "a = np.array(a)\n",
    "print(a[1:3,1:3].sum())\n",
    "\n",
    "# Hint"
   ]
  },
  {
   "cell_type": "markdown",
   "id": "41f7cc2a",
   "metadata": {},
   "source": [
    "# The Largest Square\n",
    "Find the largest square that does not contain 0 in a matrix (\n",
    "�\n",
    "∗\n",
    "�\n",
    "N∗M) that contains only 0 and 1.\n",
    "\n",
    "Input\n",
    "The path name will be provided in the form of an input text\n",
    "\n",
    "fileName = input()\n",
    "The output should be printed out to the screen as examples below.\n",
    "\n",
    "Data\n",
    "The input has multiple lines.\n",
    "The first line contains two numbers, \n",
    "�\n",
    ".\n",
    "�\n",
    ".\n",
    ",\n",
    "i.e., \n",
    "�\n",
    "<\n",
    "100\n",
    "N<100 and \n",
    "�\n",
    "<\n",
    "100\n",
    "M<100.\n",
    "The next \n",
    "�\n",
    "N lines contain \n",
    "�\n",
    "M numbers, indicating the matrix."
   ]
  },
  {
   "cell_type": "code",
   "execution_count": 27,
   "id": "52520f9d",
   "metadata": {},
   "outputs": [
    {
     "name": "stdout",
     "output_type": "stream",
     "text": [
      "Week11A4.txt\n",
      "4\n"
     ]
    }
   ],
   "source": [
    "import numpy as np\n",
    "import os\n",
    "os.chdir(\"E:\\大一\\python\")\n",
    "\n",
    "name = input()\n",
    "M = []\n",
    "with open(name,\"r\")as fh:\n",
    "    Map = fh.readlines()\n",
    "\n",
    "Row = int(Map[0].split(\",\")[0])\n",
    "Column = int(Map[0].split(\",\")[1].rstrip(\"\\n\"))\n",
    "for n in range(1,len(Map)):\n",
    "    M.append(Map[n].split(\",\"))\n",
    "    \n",
    "for n in range(0,len(M)-1):\n",
    "    M[n][-1] = M[n][-1][0]\n",
    "    \n",
    "for n in range(0,len(M)):\n",
    "    for m in range(0,Column):\n",
    "        M[n][m] = int(M[n][m])\n",
    "    \n",
    "\n",
    "arrM = np.array(M)\n",
    "\n",
    "length = 0\n",
    "summation = 0\n",
    "for a in range(Row):\n",
    "    for b in range(Column):\n",
    "        if arrM[a][b] == 1:\n",
    "            if a == Row-1 or b == Column-1:\n",
    "                length = max(length,1)\n",
    "            else:\n",
    "                for c in range(min(Column-b,Row-a)):\n",
    "                    summation = arrM[a:a+c+1,b:b+c+1].sum()\n",
    "                    \n",
    "                    if summation != (c+1)*(c+1):\n",
    "                        summation = 0\n",
    "                        pass\n",
    "                    else:\n",
    "                        length = max(length,c+1)\n",
    "                        summation = 0\n",
    "                        \n",
    "        else:\n",
    "            pass\n",
    "\n",
    "print(length)"
   ]
  },
  {
   "cell_type": "code",
   "execution_count": 96,
   "id": "a2bb8208",
   "metadata": {},
   "outputs": [
    {
     "name": "stdout",
     "output_type": "stream",
     "text": [
      "Week11A4.txt\n",
      "[['1' '1' '1' '1']\n",
      " ['1' '1' '1' '0']\n",
      " ['1' '1' '1' '0']\n",
      " ['1' '1' '0' '1']\n",
      " ['0' '1' '1' '0']]\n",
      "3\n"
     ]
    }
   ],
   "source": [
    "import numpy as np\n",
    "import os\n",
    "os.chdir(\"E:\\大一\\python\")\n",
    "\n",
    "name = input()\n",
    "M = []\n",
    "with open(name,\"r\")as fh:\n",
    "    Map = fh.readlines()\n",
    "\n",
    "Row = int(Map[0].split(\",\")[0])\n",
    "Column = int(Map[0].split(\",\")[1].rstrip(\"\\n\"))\n",
    "for n in range(1,len(Map)):\n",
    "    M.append(Map[n].split(\",\"))\n",
    "    \n",
    "for n in range(0,len(M)-1):\n",
    "    M[n][-1] = M[n][-1][0]\n",
    "    \n",
    "\n",
    "arrM = np.array(M)\n",
    "print(arrM)\n",
    "\n",
    "pt1 = 0\n",
    "pt2 = 0\n",
    "length = 0\n",
    "for a in range(Row):\n",
    "    for b in range(Column):\n",
    "        if arrM[a][b] == \"1\":\n",
    "            if a == Row-1 or b == Column-1:\n",
    "                length = max(length,1)\n",
    "            else:\n",
    "                for c in range(min(Column-b,Row-a)):\n",
    "                    try:\n",
    "                        for d in range(c+1):\n",
    "                            for e in range(c+1):\n",
    "                                if arrM[a+d][b+e] == \"0\":\n",
    "                                    length = max(length,c)\n",
    "                                    pt1 += 1\n",
    "                                    break\n",
    "                                else:\n",
    "                                    pass\n",
    "                            if pt1 != pt2:\n",
    "                                break\n",
    "                            else:\n",
    "                                pass\n",
    "                        if pt1 != pt2:\n",
    "                            pt1 = pt2\n",
    "                            break\n",
    "                        else:\n",
    "                            pass\n",
    "                           \n",
    "                    except:\n",
    "                        length = max(length,c+1)\n",
    "        else:\n",
    "            pass\n",
    "\n",
    "print(length)"
   ]
  },
  {
   "cell_type": "markdown",
   "id": "6cb7021f",
   "metadata": {},
   "source": [
    "# Maximum Average Subarray\n",
    "Given an array \"arr\" and an integer \"k\", write a function to compute the maximum average of consecutive subarrays of length \"k\" in \"arr\", and return that maximum average.\n",
    "\n",
    "Input&Output\n",
    "The first line of input is \"arr\", a string of integers separated by \",\", and the second line is the value of the variable \"k\".\n",
    "\n",
    "The output is the average of the maximum average subarray."
   ]
  },
  {
   "cell_type": "code",
   "execution_count": null,
   "id": "c3521dfe",
   "metadata": {},
   "outputs": [],
   "source": [
    "import numpy as np\n",
    "\n",
    "string = input()\n",
    "numbers = np.string.tolist()\n",
    "para = int(input())\n",
    "avg = 0\n",
    "total = []\n",
    "aver = []\n",
    "for n in range(0,len(numbers)-para+1):\n",
    "    for m in range(0,para):\n",
    "        total.append(int(numbers[n+m]))\n",
    "    avg = sum(total)/para\n",
    "    aver.append(avg)\n",
    "    avg = 0\n",
    "    total = []\n",
    "\n",
    "result = int(max(aver))\n",
    "print(result)\n",
    "\n",
    "    "
   ]
  },
  {
   "cell_type": "code",
   "execution_count": 9,
   "id": "a988c3a6",
   "metadata": {},
   "outputs": [
    {
     "name": "stdout",
     "output_type": "stream",
     "text": [
      "1,2,3,4,5,6,7,8,9\n",
      "3\n",
      "8\n"
     ]
    }
   ],
   "source": [
    "#备用\n",
    "\n",
    "string = input()\n",
    "numbers = string.split(\",\")\n",
    "para = int(input())\n",
    "avg = 0\n",
    "total = []\n",
    "aver = []\n",
    "for n in range(0,len(numbers)-para+1):\n",
    "    for m in range(0,para):\n",
    "        total.append(int(numbers[n+m]))\n",
    "    avg = sum(total)/para\n",
    "    aver.append(avg)\n",
    "    avg = 0\n",
    "    total = []\n",
    "\n",
    "result = int(max(aver))\n",
    "print(result)\n"
   ]
  },
  {
   "cell_type": "markdown",
   "id": "f5c6899e",
   "metadata": {},
   "source": [
    "# Basic Numpy Exercise\n",
    "Given the content of matrix a and matrix b, the reshape parameters, and decision rules, please identify the positions where the relationship between the elements of matrix a and matrix b conforms to the decision rule and output them as required.\n",
    "\n",
    "Input\n",
    "The input has four lines.\n",
    "The first line is the reshape parameters of matrix a and matrix b, separate by ,. For example, 2,5 means the reshaped matrix has two rows and five columns.\n",
    "The second line is the content of matrix a, separate by ,.\n",
    "The third line is the content of matrix b, separate by ,.\n",
    "The fourth line is the decision rule.\n",
    "\n",
    "Hint: Function eval() can convert string to expression. The contents of matrix a and b are integers.\n",
    "\n",
    "Output\n",
    "If the reshape parameters do not match the number of matrix elements, print Invalid.\n",
    "Print the matrix of the positions where the relationship between the elements of matrix a and matrix b conforms to the decision rule.\\"
   ]
  },
  {
   "cell_type": "code",
   "execution_count": 35,
   "id": "5d934af0",
   "metadata": {},
   "outputs": [
    {
     "name": "stdout",
     "output_type": "stream",
     "text": [
      "2,2\n",
      "1,1,1,1\n",
      "0,0,0,0\n",
      "a==b\n",
      "[]\n"
     ]
    }
   ],
   "source": [
    "import numpy as np\n",
    "\n",
    "Size = input()\n",
    "TempA = input()\n",
    "TempB = input()\n",
    "tempa = TempA.split(',')\n",
    "tempb = TempB.split(',')\n",
    "rule = input()\n",
    "row = int(Size.split(',')[0])\n",
    "column = int(Size.split(',')[1])\n",
    "TempA1 = []\n",
    "TempB1 = []\n",
    "for a in tempa:\n",
    "    TempA1.append(int(a))\n",
    "for b in tempb:\n",
    "    TempB1.append(int(b))\n",
    "a = 0\n",
    "b = 0\n",
    "result =[]\n",
    "\n",
    "matrix_a = np.array(TempA1)\n",
    "matrix_b = np.array(TempB1)\n",
    "try: \n",
    "    matrixA = matrix_a.reshape(row,column)\n",
    "    matrixB = matrix_b.reshape(row,column)\n",
    "    for rows in range(row):\n",
    "        for columns in range(column):\n",
    "            a = matrixA[rows][columns]\n",
    "            b = matrixB[rows][columns]\n",
    "            if eval(rule) == True:\n",
    "                result.append(np.array([rows,columns]))\n",
    "            else:\n",
    "                pass\n",
    "    results = np.array(result)\n",
    "    print(results)\n",
    "except:\n",
    "    print(\"Invalid\")\n"
   ]
  },
  {
   "cell_type": "code",
   "execution_count": 36,
   "id": "6f5d731b",
   "metadata": {},
   "outputs": [
    {
     "name": "stdout",
     "output_type": "stream",
     "text": [
      "Help on class map in module builtins:\n",
      "\n",
      "class map(object)\n",
      " |  map(func, *iterables) --> map object\n",
      " |  \n",
      " |  Make an iterator that computes the function using arguments from\n",
      " |  each of the iterables.  Stops when the shortest iterable is exhausted.\n",
      " |  \n",
      " |  Methods defined here:\n",
      " |  \n",
      " |  __getattribute__(self, name, /)\n",
      " |      Return getattr(self, name).\n",
      " |  \n",
      " |  __iter__(self, /)\n",
      " |      Implement iter(self).\n",
      " |  \n",
      " |  __next__(self, /)\n",
      " |      Implement next(self).\n",
      " |  \n",
      " |  __reduce__(...)\n",
      " |      Return state information for pickling.\n",
      " |  \n",
      " |  ----------------------------------------------------------------------\n",
      " |  Static methods defined here:\n",
      " |  \n",
      " |  __new__(*args, **kwargs) from builtins.type\n",
      " |      Create and return a new object.  See help(type) for accurate signature.\n",
      "\n"
     ]
    }
   ],
   "source": [
    "# Thanks the one who continued his working on python\n",
    "help(map)"
   ]
  }
 ],
 "metadata": {
  "kernelspec": {
   "display_name": "Python 3 (ipykernel)",
   "language": "python",
   "name": "python3"
  },
  "language_info": {
   "codemirror_mode": {
    "name": "ipython",
    "version": 3
   },
   "file_extension": ".py",
   "mimetype": "text/x-python",
   "name": "python",
   "nbconvert_exporter": "python",
   "pygments_lexer": "ipython3",
   "version": "3.11.0"
  }
 },
 "nbformat": 4,
 "nbformat_minor": 5
}
