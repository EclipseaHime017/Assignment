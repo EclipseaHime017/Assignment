{
 "cells": [
  {
   "cell_type": "markdown",
   "id": "a97060b5",
   "metadata": {},
   "source": [
    "# Chickens and rabbits\n",
    "In a cage there are several chickens and rabbits. Given the number of heads and feet, calculate how many chickens and rabbits are there.\n",
    "\n",
    "Input\n",
    "The input are numbers of heads and feet.\n",
    "\n",
    "Output\n",
    "The output is a tuple that contains numbers of chickens and rabbits.\n",
    "\n",
    "\n"
   ]
  },
  {
   "cell_type": "code",
   "execution_count": 1,
   "id": "702a7e40",
   "metadata": {},
   "outputs": [
    {
     "name": "stdout",
     "output_type": "stream",
     "text": [
      "7\n",
      "24\n",
      "(2, 5)\n"
     ]
    }
   ],
   "source": [
    "heads = int(input())\n",
    "feet = int(input())\n",
    "dif = heads*4-feet\n",
    "chickens = int(dif/2)\n",
    "rabbits = int(heads-chickens)\n",
    "result = (chickens,rabbits)\n",
    "print(result)"
   ]
  },
  {
   "cell_type": "markdown",
   "id": "2f7b6464",
   "metadata": {},
   "source": [
    "# Palindrome string\n",
    "Determines if a string is a palindrome string (Reading forward is the same as reading backwards).\n",
    "\n",
    "Input\n",
    "The input is a string.\n",
    "\n",
    "Output\n",
    "The output is a Boolean value"
   ]
  },
  {
   "cell_type": "code",
   "execution_count": 18,
   "id": "66ffbc67",
   "metadata": {},
   "outputs": [
    {
     "name": "stdout",
     "output_type": "stream",
     "text": [
      "1221\n",
      "True\n"
     ]
    }
   ],
   "source": [
    "string = input()\n",
    "string_inverse = string[::-1]\n",
    "print(string == string_inverse)"
   ]
  },
  {
   "cell_type": "markdown",
   "id": "882772f7",
   "metadata": {},
   "source": [
    "# Sort string\n",
    "Given a string with characters seperated by commas. Return the unique characters in the descending order.\n",
    "\n",
    "Input\n",
    "The input is a string with characters seperated by commas.\n",
    "\n",
    "Output\n",
    "The output is a list containing unique characters in the string in descending order."
   ]
  },
  {
   "cell_type": "code",
   "execution_count": 34,
   "id": "165a8bd8",
   "metadata": {},
   "outputs": [
    {
     "name": "stdout",
     "output_type": "stream",
     "text": [
      "a,b,cc\n",
      "['cc', 'b', 'a']\n"
     ]
    }
   ],
   "source": [
    "s = input()\n",
    "a = s.split(',')\n",
    "b = set(a)\n",
    "c = list(b)\n",
    "c.sort(reverse = True)\n",
    "print(c)\n"
   ]
  },
  {
   "cell_type": "markdown",
   "id": "99b7c0c3",
   "metadata": {},
   "source": [
    "# Common words\n",
    "Given two sentences, find the common words.\n",
    "\n",
    "Input\n",
    "The inputs are two strings\n",
    "\n",
    "Output\n",
    "The output is a list containing all common words in ascending order."
   ]
  },
  {
   "cell_type": "code",
   "execution_count": 59,
   "id": "510f64e6",
   "metadata": {},
   "outputs": [
    {
     "name": "stdout",
     "output_type": "stream",
     "text": [
      "My name is Robert\n",
      "My name is Chlorine\n",
      "['My', 'is', 'name']\n"
     ]
    }
   ],
   "source": [
    "a = input()\n",
    "b = input()\n",
    "a = a.split(\" \")\n",
    "b = b.split(\" \")\n",
    "c = set(a)&set(b)\n",
    "common = list(c)\n",
    "print(sorted(common))\n",
    "\n",
    "\n",
    "\n"
   ]
  },
  {
   "cell_type": "markdown",
   "id": "fa42223e",
   "metadata": {},
   "source": [
    "# Date reformat\n",
    "Given a date in the Year-Month-Day format, reformat and print it as a string in the format:\n",
    "\n",
    "The year is XXX, the month is XXX, the day is XXX.\n",
    "\n",
    "Input\n",
    "The input is a date as a string.\n",
    "\n",
    "Output\n",
    "The output is a string that reformat the date"
   ]
  },
  {
   "cell_type": "code",
   "execution_count": 10,
   "id": "47218e75",
   "metadata": {},
   "outputs": [
    {
     "name": "stdout",
     "output_type": "stream",
     "text": [
      "1111-11-11\n",
      "The year is 1111, The month is 11, The day is 11.\n"
     ]
    }
   ],
   "source": [
    "Date = input()\n",
    "d = Date.split(\"-\")\n",
    "Yr = d[0]\n",
    "Mth = d[1]\n",
    "Ds = d[2]\n",
    "print(\"The year is \",Yr,\", \",\"the month is \",Mth,\", \",\"the day is \",Ds,\".\",sep=\"\")"
   ]
  },
  {
   "cell_type": "markdown",
   "id": "1816e1ec",
   "metadata": {},
   "source": [
    "# DNA reverse complement\n",
    "DNA is made up of the A, T, C and G nucleotides. In DNA, A is paried with T and C is paired with G.\n",
    "\n",
    "The reverse complement of a DNA sequence involves reversing the order of the nucleotides and replacing each nucleotide with its complementary base.\n",
    "\n",
    "For example, the reverse complement of the DNA sequence \"ATCG\" would be \"CGAT,\" since A pairs with T and C pairs with G.\n",
    "\n",
    "Input\n",
    "The input is a DNA sequence as a string (may contain letters in both upper and lower cases ).\n",
    "\n",
    "Output\n",
    "The output is a string in upper cases which is the reverse complement of the input DNA.\n",
    "\n",
    "Note\n",
    "Try to only use what we have learned so far."
   ]
  },
  {
   "cell_type": "code",
   "execution_count": 53,
   "id": "1579dcad",
   "metadata": {},
   "outputs": [
    {
     "name": "stdout",
     "output_type": "stream",
     "text": [
      "AtCCgg\n",
      "CCGGAT\n"
     ]
    }
   ],
   "source": [
    "sequence = input()\n",
    "s1 = sequence.upper()\n",
    "s2 = s1.replace(\"A\",\"t\")\n",
    "s3 = s2.replace(\"T\",\"a\")\n",
    "s4 = s3.replace(\"C\",\"g\")\n",
    "s5 = s4.replace(\"G\",\"c\")\n",
    "s_final = s5.upper()\n",
    "s = list(s_final)[::-1]\n",
    "result = \"\".join(s)\n",
    "print(result)\n",
    "\n",
    "\n",
    "\n",
    "    \n",
    "\n",
    "\n"
   ]
  }
 ],
 "metadata": {
  "kernelspec": {
   "display_name": "Python 3 (ipykernel)",
   "language": "python",
   "name": "python3"
  },
  "language_info": {
   "codemirror_mode": {
    "name": "ipython",
    "version": 3
   },
   "file_extension": ".py",
   "mimetype": "text/x-python",
   "name": "python",
   "nbconvert_exporter": "python",
   "pygments_lexer": "ipython3",
   "version": "3.11.0"
  }
 },
 "nbformat": 4,
 "nbformat_minor": 5
}
